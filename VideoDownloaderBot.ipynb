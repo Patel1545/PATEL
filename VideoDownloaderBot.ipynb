{
  "nbformat": 4,
  "nbformat_minor": 0,
  "metadata": {
    "colab": {
      "name": "VideoDownloaderBot",
      "provenance": [],
      "toc_visible": true,
      "include_colab_link": true
    },
    "kernelspec": {
      "display_name": "Python 3",
      "name": "python3"
    },
    "language_info": {
      "name": "python"
    }
  },
  "cells": [
    {
      "cell_type": "markdown",
      "metadata": {
        "id": "view-in-github",
        "colab_type": "text"
      },
      "source": [
        "<a href=\"https://colab.research.google.com/github/Patel1545/CP-pw-without-purchase-/blob/main/VideoDownloaderBot.ipynb\" target=\"_parent\"><img src=\"https://colab.research.google.com/assets/colab-badge.svg\" alt=\"Open In Colab\"/></a>"
      ]
    },
    {
      "cell_type": "code",
      "metadata": {
        "cellView": "form",
        "id": "EBqWM-x61KSn"
      },
      "source": [
        "#@title <<----<strong> Auto Reconnect\n",
        "%%capture\n",
        "import IPython\n",
        "from google.colab import output\n",
        "\n",
        "display(IPython.display.Javascript('''\n",
        "function ClickConnect(){\n",
        "  btn = document.querySelector(\"colab-connect-button\")\n",
        "  if (btn != null){\n",
        "    console.log(\"Click colab-connect-button\");\n",
        "    btn.click()\n",
        "    }\n",
        "\n",
        "  btn = document.getElementById('ok')\n",
        "  if (btn != null){\n",
        "    console.log(\"Click reconnect\");\n",
        "    btn.click()\n",
        "    }\n",
        "  }\n",
        "\n",
        "setInterval(ClickConnect,60000)\n",
        "'''))"
      ],
      "execution_count": 2,
      "outputs": []
    },
    {
      "cell_type": "code",
      "metadata": {
        "id": "G7-1QZEdQXCT",
        "colab": {
          "base_uri": "https://localhost:8080/"
        },
        "outputId": "5f01c4c9-df3a-47d6-d432-b0e58b933732"
      },
      "source": [
        "!apt install ffmpeg aria2\n",
        "!git clone https://github.com/Patel1545/Master-uploader\n",
        "%cd Master-uploader"
      ],
      "execution_count": 1,
      "outputs": [
        {
          "output_type": "stream",
          "name": "stdout",
          "text": [
            "Reading package lists... Done\n",
            "Building dependency tree... Done\n",
            "Reading state information... Done\n",
            "ffmpeg is already the newest version (7:4.4.2-0ubuntu0.22.04.1).\n",
            "The following additional packages will be installed:\n",
            "  libaria2-0 libc-ares2\n",
            "The following NEW packages will be installed:\n",
            "  aria2 libaria2-0 libc-ares2\n",
            "0 upgraded, 3 newly installed, 0 to remove and 34 not upgraded.\n",
            "Need to get 1,513 kB of archives.\n",
            "After this operation, 5,441 kB of additional disk space will be used.\n",
            "Get:1 http://archive.ubuntu.com/ubuntu jammy-updates/main amd64 libc-ares2 amd64 1.18.1-1ubuntu0.22.04.3 [45.1 kB]\n",
            "Get:2 http://archive.ubuntu.com/ubuntu jammy/universe amd64 libaria2-0 amd64 1.36.0-1 [1,086 kB]\n",
            "Get:3 http://archive.ubuntu.com/ubuntu jammy/universe amd64 aria2 amd64 1.36.0-1 [381 kB]\n",
            "Fetched 1,513 kB in 1s (1,909 kB/s)\n",
            "Selecting previously unselected package libc-ares2:amd64.\n",
            "(Reading database ... 126101 files and directories currently installed.)\n",
            "Preparing to unpack .../libc-ares2_1.18.1-1ubuntu0.22.04.3_amd64.deb ...\n",
            "Unpacking libc-ares2:amd64 (1.18.1-1ubuntu0.22.04.3) ...\n",
            "Selecting previously unselected package libaria2-0:amd64.\n",
            "Preparing to unpack .../libaria2-0_1.36.0-1_amd64.deb ...\n",
            "Unpacking libaria2-0:amd64 (1.36.0-1) ...\n",
            "Selecting previously unselected package aria2.\n",
            "Preparing to unpack .../aria2_1.36.0-1_amd64.deb ...\n",
            "Unpacking aria2 (1.36.0-1) ...\n",
            "Setting up libc-ares2:amd64 (1.18.1-1ubuntu0.22.04.3) ...\n",
            "Setting up libaria2-0:amd64 (1.36.0-1) ...\n",
            "Setting up aria2 (1.36.0-1) ...\n",
            "Processing triggers for man-db (2.10.2-1) ...\n",
            "Processing triggers for libc-bin (2.35-0ubuntu3.8) ...\n",
            "/sbin/ldconfig.real: /usr/local/lib/libtcm_debug.so.1 is not a symbolic link\n",
            "\n",
            "/sbin/ldconfig.real: /usr/local/lib/libtbbmalloc_proxy.so.2 is not a symbolic link\n",
            "\n",
            "/sbin/ldconfig.real: /usr/local/lib/libtbb.so.12 is not a symbolic link\n",
            "\n",
            "/sbin/ldconfig.real: /usr/local/lib/libumf.so.0 is not a symbolic link\n",
            "\n",
            "/sbin/ldconfig.real: /usr/local/lib/libur_adapter_opencl.so.0 is not a symbolic link\n",
            "\n",
            "/sbin/ldconfig.real: /usr/local/lib/libtbbbind.so.3 is not a symbolic link\n",
            "\n",
            "/sbin/ldconfig.real: /usr/local/lib/libur_loader.so.0 is not a symbolic link\n",
            "\n",
            "/sbin/ldconfig.real: /usr/local/lib/libtbbbind_2_0.so.3 is not a symbolic link\n",
            "\n",
            "/sbin/ldconfig.real: /usr/local/lib/libtcm.so.1 is not a symbolic link\n",
            "\n",
            "/sbin/ldconfig.real: /usr/local/lib/libtbbbind_2_5.so.3 is not a symbolic link\n",
            "\n",
            "/sbin/ldconfig.real: /usr/local/lib/libtbbmalloc.so.2 is not a symbolic link\n",
            "\n",
            "/sbin/ldconfig.real: /usr/local/lib/libhwloc.so.15 is not a symbolic link\n",
            "\n",
            "/sbin/ldconfig.real: /usr/local/lib/libur_adapter_level_zero.so.0 is not a symbolic link\n",
            "\n",
            "Cloning into 'Master-uploader'...\n",
            "remote: Enumerating objects: 64, done.\u001b[K\n",
            "remote: Counting objects: 100% (28/28), done.\u001b[K\n",
            "remote: Compressing objects: 100% (15/15), done.\u001b[K\n",
            "remote: Total 64 (delta 20), reused 13 (delta 13), pack-reused 36 (from 1)\u001b[K\n",
            "Receiving objects: 100% (64/64), 1.41 MiB | 18.21 MiB/s, done.\n",
            "Resolving deltas: 100% (25/25), done.\n",
            "/content/Master-uploader\n"
          ]
        }
      ]
    },
    {
      "cell_type": "code",
      "metadata": {
        "id": "UQhZ5LqSRIA2",
        "colab": {
          "base_uri": "https://localhost:8080/"
        },
        "outputId": "4234dda4-a25a-4495-9072-3b5704797173"
      },
      "source": [
        "!pip3 install -U pip\n",
        "!pip3 install -r ./requirements.txt"
      ],
      "execution_count": null,
      "outputs": [
        {
          "output_type": "stream",
          "name": "stdout",
          "text": [
            "Requirement already satisfied: pip in /usr/local/lib/python3.11/dist-packages (24.1.2)\n",
            "Collecting pip\n",
            "  Downloading pip-25.0.1-py3-none-any.whl.metadata (3.7 kB)\n",
            "Downloading pip-25.0.1-py3-none-any.whl (1.8 MB)\n",
            "\u001b[2K   \u001b[90m━━━━━━━━━━━━━━━━━━━━━━━━━━━━━━━━━━━━━━━━\u001b[0m \u001b[32m1.8/1.8 MB\u001b[0m \u001b[31m18.6 MB/s\u001b[0m eta \u001b[36m0:00:00\u001b[0m\n",
            "\u001b[?25hInstalling collected packages: pip\n",
            "  Attempting uninstall: pip\n",
            "    Found existing installation: pip 24.1.2\n",
            "    Uninstalling pip-24.1.2:\n",
            "      Successfully uninstalled pip-24.1.2\n",
            "Successfully installed pip-25.0.1\n",
            "Collecting pyrogram (from -r ./requirements.txt (line 1))\n",
            "  Downloading Pyrogram-2.0.106-py3-none-any.whl.metadata (4.4 kB)\n",
            "Collecting tgcrypto (from -r ./requirements.txt (line 2))\n",
            "  Downloading TgCrypto-1.2.5-cp311-cp311-manylinux_2_17_x86_64.manylinux2014_x86_64.whl.metadata (6.1 kB)\n",
            "Requirement already satisfied: requests in /usr/local/lib/python3.11/dist-packages (from -r ./requirements.txt (line 3)) (2.32.3)\n",
            "Collecting pyaes==1.6.1 (from pyrogram->-r ./requirements.txt (line 1))\n",
            "  Downloading pyaes-1.6.1.tar.gz (28 kB)\n",
            "  Preparing metadata (setup.py) ... \u001b[?25l\u001b[?25hdone\n",
            "Requirement already satisfied: pysocks==1.7.1 in /usr/local/lib/python3.11/dist-packages (from pyrogram->-r ./requirements.txt (line 1)) (1.7.1)\n",
            "Requirement already satisfied: charset-normalizer<4,>=2 in /usr/local/lib/python3.11/dist-packages (from requests->-r ./requirements.txt (line 3)) (3.4.1)\n",
            "Requirement already satisfied: idna<4,>=2.5 in /usr/local/lib/python3.11/dist-packages (from requests->-r ./requirements.txt (line 3)) (3.10)\n",
            "Requirement already satisfied: urllib3<3,>=1.21.1 in /usr/local/lib/python3.11/dist-packages (from requests->-r ./requirements.txt (line 3)) (2.3.0)\n",
            "Requirement already satisfied: certifi>=2017.4.17 in /usr/local/lib/python3.11/dist-packages (from requests->-r ./requirements.txt (line 3)) (2025.1.31)\n",
            "Downloading Pyrogram-2.0.106-py3-none-any.whl (3.6 MB)\n",
            "\u001b[2K   \u001b[90m━━━━━━━━━━━━━━━━━━━━━━━━━━━━━━━━━━━━━━━━\u001b[0m \u001b[32m3.6/3.6 MB\u001b[0m \u001b[31m46.8 MB/s\u001b[0m eta \u001b[36m0:00:00\u001b[0m\n",
            "\u001b[?25hDownloading TgCrypto-1.2.5-cp311-cp311-manylinux_2_17_x86_64.manylinux2014_x86_64.whl (60 kB)\n",
            "Building wheels for collected packages: pyaes\n",
            "  Building wheel for pyaes (setup.py) ... \u001b[?25l\u001b[?25hdone\n",
            "  Created wheel for pyaes: filename=pyaes-1.6.1-py3-none-any.whl size=26346 sha256=a050c1a754c48135306fea14e0d5de1b97425bb5fabcba65cb28b9e34882d6d7\n",
            "  Stored in directory: /root/.cache/pip/wheels/4e/52/33/010d0843550bffb6a591b11629070ae140c0ad4f53e68a3bd3\n",
            "Successfully built pyaes\n",
            "Installing collected packages: pyaes, tgcrypto, pyrogram\n",
            "Successfully installed pyaes-1.6.1 pyrogram-2.0.106 tgcrypto-1.2.5\n"
          ]
        }
      ]
    },
    {
      "cell_type": "code",
      "metadata": {
        "colab": {
          "background_save": true,
          "base_uri": "https://localhost:8080/"
        },
        "id": "k2ARB3FQQyI-",
        "outputId": "e10fc2a9-5072-4ab0-e3fe-ffce6c61df7a"
      },
      "source": [
        "!python3 main.py"
      ],
      "execution_count": null,
      "outputs": [
        {
          "output_type": "stream",
          "name": "stdout",
          "text": [
            "ffmpeg version N-61656-gfbd22504c4-static https://johnvansickle.com/ffmpeg/  Copyright (c) 2000-2022 the FFmpeg developers\n",
            "  built with gcc 8 (Debian 8.3.0-6)\n",
            "  configuration: --enable-gpl --enable-version3 --enable-static --disable-debug --disable-ffplay --disable-indev=sndio --disable-outdev=sndio --cc=gcc --enable-fontconfig --enable-frei0r --enable-gnutls --enable-gmp --enable-libgme --enable-gray --enable-libaom --enable-libfribidi --enable-libass --enable-libvmaf --enable-libfreetype --enable-libmp3lame --enable-libopencore-amrnb --enable-libopencore-amrwb --enable-libopenjpeg --enable-librubberband --enable-libsoxr --enable-libspeex --enable-libsrt --enable-libvorbis --enable-libopus --enable-libtheora --enable-libvidstab --enable-libvo-amrwbenc --enable-libvpx --enable-libwebp --enable-libx264 --enable-libx265 --enable-libxml2 --enable-libdav1d --enable-libxvid --enable-libzvbi --enable-libzimg\n",
            "  libavutil      57. 24.101 / 57. 24.101\n",
            "  libavcodec     59. 26.100 / 59. 26.100\n",
            "  libavformat    59. 22.100 / 59. 22.100\n",
            "  libavdevice    59.  6.100 / 59.  6.100\n",
            "  libavfilter     8. 33.100 /  8. 33.100\n",
            "  libswscale      6.  6.100 /  6.  6.100\n",
            "  libswresample   4.  6.100 /  4.  6.100\n",
            "  libpostproc    56.  5.100 / 56.  5.100\n",
            "Input #0, mov,mp4,m4a,3gp,3g2,mj2, from '/content/Video-Compressor-Bot/downloads/video_2025-01-23_18-23-34_7483003519889309712.mp4':\n",
            "  Metadata:\n",
            "    major_brand     : isom\n",
            "    minor_version   : 512\n",
            "    compatible_brands: isomiso2avc1mp41\n",
            "    creation_time   : 2025-01-23T18:23:33.000000Z\n",
            "  Duration: 00:00:32.25, start: 0.000000, bitrate: 1787 kb/s\n",
            "  Stream #0:0[0x1](eng): Video: h264 (High) (avc1 / 0x31637661), yuv420p(tv, bt709, progressive), 392x848, 1526 kb/s, 30.02 fps, 30 tbr, 90k tbn (default)\n",
            "    Metadata:\n",
            "      creation_time   : 2025-01-23T18:23:31.000000Z\n",
            "      handler_name    : VideoHandle\n",
            "      vendor_id       : [0][0][0][0]\n",
            "  Stream #0:1[0x2](eng): Audio: aac (LC) (mp4a / 0x6134706D), 48000 Hz, stereo, fltp, 256 kb/s (default)\n",
            "    Metadata:\n",
            "      creation_time   : 2025-01-23T18:23:31.000000Z\n",
            "      handler_name    : SoundHandle\n",
            "      vendor_id       : [0][0][0][0]\n",
            "Stream mapping:\n",
            "  Stream #0:0 -> #0:0 (h264 (native) -> hevc (libx265))\n",
            "  Stream #0:1 -> #0:1 (aac (native) -> vorbis (libvorbis))\n",
            "Press [q] to stop, [?] for help\n",
            "x265 [info]: HEVC encoder version 3.5+1-f0c1022b6\n",
            "x265 [info]: build info [Linux][GCC 8.3.0][64 bit] 8bit+10bit+12bit\n",
            "x265 [info]: using cpu capabilities: MMX2 SSE2Fast LZCNT SSSE3 SSE4.2 AVX FMA3 BMI2 AVX2\n",
            "x265 [info]: Main profile, Level-3 (Main tier)\n",
            "x265 [info]: Thread pool created using 2 threads\n",
            "x265 [info]: Slices                              : 1\n",
            "x265 [info]: frame threads / pool features       : 1 / wpp(14 rows)\n",
            "x265 [info]: Coding QT: max CU size, min CU size : 64 / 8\n",
            "x265 [info]: Residual QT: max TU size, max depth : 32 / 1 inter / 1 intra\n",
            "x265 [info]: ME / range / subpel / merge         : hex / 57 / 2 / 3\n",
            "x265 [info]: Keyframe min / max / scenecut / bias  : 25 / 250 / 40 / 5.00 \n",
            "x265 [info]: Lookahead / bframes / badapt        : 20 / 4 / 2\n",
            "x265 [info]: b-pyramid / weightp / weightb       : 1 / 1 / 0\n",
            "x265 [info]: References / ref-limit  cu / depth  : 3 / off / on\n",
            "x265 [info]: AQ: mode / str / qg-size / cu-tree  : 2 / 1.0 / 32 / 1\n",
            "x265 [info]: Rate Control / qCompress            : CRF-28.0 / 0.60\n",
            "x265 [info]: tools: rd=3 psy-rd=2.00 early-skip rskip mode=1 signhide tmvp\n",
            "x265 [info]: tools: b-intra strong-intra-smoothing lslices=5 deblock sao\n",
            "Output #0, matroska, to 'output-5.mkv':\n",
            "  Metadata:\n",
            "    major_brand     : isom\n",
            "    minor_version   : 512\n",
            "    compatible_brands: isomiso2avc1mp41\n",
            "    encoder         : Lavf59.22.100\n",
            "  Stream #0:0(eng): Video: hevc (hvc1 / 0x31637668), yuv420p(tv, bt709, progressive), 392x848, q=2-31, 30 fps, 1k tbn (default)\n",
            "    Metadata:\n",
            "      creation_time   : 2025-01-23T18:23:31.000000Z\n",
            "      handler_name    : VideoHandle\n",
            "      vendor_id       : [0][0][0][0]\n",
            "      encoder         : Lavc59.26.100 libx265\n",
            "    Side data:\n",
            "      cpb: bitrate max/min/avg: 0/0/0 buffer size: 0 vbv_delay: N/A\n",
            "  Stream #0:1(eng): Audio: vorbis (oV[0][0] / 0x566F), 48000 Hz, stereo, fltp (default)\n",
            "    Metadata:\n",
            "      creation_time   : 2025-01-23T18:23:31.000000Z\n",
            "      handler_name    : SoundHandle\n",
            "      vendor_id       : [0][0][0][0]\n",
            "      encoder         : Lavc59.26.100 libvorbis\n",
            "frame=  968 fps= 19 q=35.3 Lsize=    3218kB time=00:00:32.16 bitrate= 819.6kbits/s speed=0.624x    \n",
            "video:2758kB audio:433kB subtitle:0kB other streams:0kB global headers:6kB muxing overhead: 0.847910%\n",
            "x265 [info]: frame I:      4, Avg QP:26.98  kb/s: 3900.78 \n",
            "x265 [info]: frame P:    263, Avg QP:29.00  kb/s: 1812.88 \n",
            "x265 [info]: frame B:    701, Avg QP:34.79  kb/s: 263.32  \n",
            "x265 [info]: Weighted P-Frames: Y:12.2% UV:6.1%\n",
            "x265 [info]: consecutive B-frames: 10.9% 2.2% 21.7% 43.8% 21.3% \n",
            "\n",
            "encoded 968 frames in 51.55s (18.78 fps), 699.36 kb/s, Avg QP:33.19\n"
          ]
        }
      ]
    }
  ]
}